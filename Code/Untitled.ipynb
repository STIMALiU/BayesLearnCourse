{
 "cells": [
  {
   "cell_type": "markdown",
   "metadata": {},
   "source": [
    "# Bayesian analysis of multinomial data\n",
    "Prepared for the course: Bayesian Learning/Bayesian Statistics I\\\n",
    "Author: Mattias Villani, Linköping and Stockholm University, http://mattiasvillani.com"
   ]
  },
  {
   "cell_type": "markdown",
   "metadata": {},
   "source": [
    "A company has conduct a survey of mobile phone usage. Participants were ask the question: 'What kind of mobile phone do you main use?' with the four options:\n",
    "* iPhone\n",
    "* Android Phone\n",
    "* Windows Phone\n",
    "* Other\n",
    "\n",
    "The responses where: 180 "
   ]
  },
  {
   "cell_type": "code",
   "execution_count": null,
   "metadata": {},
   "outputs": [],
   "source": []
  },
  {
   "cell_type": "code",
   "execution_count": null,
   "metadata": {},
   "outputs": [],
   "source": []
  },
  {
   "cell_type": "code",
   "execution_count": null,
   "metadata": {},
   "outputs": [],
   "source": [
    "y <- c(180,230,62,41) # The cell phone survey data (K=4)\n",
    "alpha <- c(15,15,10,10) # Dirichlet prior hyperparameters \n",
    "nIter <- 1000 # Number of posterior draws\n",
    "\n",
    "# Defining a function that simulates from a Dirichlet distribution \n",
    "SimDirichlet <- function(nIter, param){ \t\n",
    "  nCat <- length(param) \t\n",
    "  thetaDraws <- as.data.frame(matrix(NA, nIter, nCat)) # Storage. \t\n",
    "  for (j in 1:nCat){ \t\t\n",
    "    thetaDraws[,j] <- rgamma(nIter,param[j],1) \t\n",
    "  } \t\n",
    "  for (i in 1:nIter){ \t\t\n",
    "    thetaDraws[i,] = thetaDraws[i,]/sum(thetaDraws[i,])\t\n",
    "  } \t\n",
    "  return(thetaDraws) \n",
    "}\n",
    "\n",
    "# Posterior sampling from Dirichlet posterior\n",
    "thetaDraws <- SimDirichlet(nIter,y + alpha)"
   ]
  },
  {
   "cell_type": "code",
   "execution_count": null,
   "metadata": {},
   "outputs": [],
   "source": [
    "a = sum(y)"
   ]
  },
  {
   "cell_type": "code",
   "execution_count": null,
   "metadata": {},
   "outputs": [],
   "source": [
    "print(a)"
   ]
  },
  {
   "cell_type": "code",
   "execution_count": null,
   "metadata": {},
   "outputs": [],
   "source": []
  }
 ],
 "metadata": {
  "kernelspec": {
   "display_name": "R",
   "language": "R",
   "name": "ir"
  },
  "language_info": {
   "name": ""
  }
 },
 "nbformat": 4,
 "nbformat_minor": 4
}
